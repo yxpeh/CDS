{
 "cells": [
  {
   "cell_type": "code",
   "execution_count": 1,
   "metadata": {},
   "outputs": [
    {
     "name": "stderr",
     "output_type": "stream",
     "text": [
      "C:\\Users\\Admin\\AppData\\Roaming\\Python\\Python312\\site-packages\\tqdm\\auto.py:21: TqdmWarning: IProgress not found. Please update jupyter and ipywidgets. See https://ipywidgets.readthedocs.io/en/stable/user_install.html\n",
      "  from .autonotebook import tqdm as notebook_tqdm\n"
     ]
    }
   ],
   "source": [
    "import os\n",
    "import torch\n",
    "import cv2\n",
    "import torch.nn as nn\n",
    "import torch.optim as optim\n",
    "import torch.cuda\n",
    "import numpy as np\n",
    "import pandas as pd\n",
    "import matplotlib.pyplot as plt\n",
    "from PIL import Image\n",
    "from glob import glob\n",
    "from tqdm import tqdm\n",
    "from sklearn.model_selection import train_test_split\n",
    "from torch.utils.data import Dataset\n",
    "from transformers import TimesformerModel, TimesformerConfig\n",
    "from torch.utils.data import DataLoader, random_split\n",
    "from sklearn.metrics import r2_score, mean_squared_error, mean_absolute_error"
   ]
  },
  {
   "cell_type": "markdown",
   "metadata": {},
   "source": [
    "Load csv and sample 15 random movies from each genre:"
   ]
  },
  {
   "cell_type": "code",
   "execution_count": 2,
   "metadata": {},
   "outputs": [
    {
     "data": {
      "text/html": [
       "<div>\n",
       "<style scoped>\n",
       "    .dataframe tbody tr th:only-of-type {\n",
       "        vertical-align: middle;\n",
       "    }\n",
       "\n",
       "    .dataframe tbody tr th {\n",
       "        vertical-align: top;\n",
       "    }\n",
       "\n",
       "    .dataframe thead th {\n",
       "        text-align: right;\n",
       "    }\n",
       "</style>\n",
       "<table border=\"1\" class=\"dataframe\">\n",
       "  <thead>\n",
       "    <tr style=\"text-align: right;\">\n",
       "      <th></th>\n",
       "      <th>id</th>\n",
       "      <th>genres</th>\n",
       "      <th>original_title</th>\n",
       "      <th>overview</th>\n",
       "      <th>backdrop_path</th>\n",
       "      <th>poster_path</th>\n",
       "      <th>budget</th>\n",
       "      <th>release_date</th>\n",
       "      <th>revenue</th>\n",
       "      <th>runtime</th>\n",
       "      <th>year</th>\n",
       "      <th>trailer</th>\n",
       "      <th>revenue_bin</th>\n",
       "    </tr>\n",
       "  </thead>\n",
       "  <tbody>\n",
       "    <tr>\n",
       "      <th>0</th>\n",
       "      <td>628922</td>\n",
       "      <td>Drama</td>\n",
       "      <td>Asphalt City</td>\n",
       "      <td>A young paramedic is paired with a seasoned pa...</td>\n",
       "      <td>/yPiCixZDLeBXF8xO4xpw8SJlaKn.jpg</td>\n",
       "      <td>/qXcd7wY7MmRs36fQt83iSMJelvV.jpg</td>\n",
       "      <td>0</td>\n",
       "      <td>2024-03-28</td>\n",
       "      <td>488002</td>\n",
       "      <td>120</td>\n",
       "      <td>2024</td>\n",
       "      <td>m5buqYihMg8</td>\n",
       "      <td>low</td>\n",
       "    </tr>\n",
       "    <tr>\n",
       "      <th>1</th>\n",
       "      <td>557950</td>\n",
       "      <td>Drama</td>\n",
       "      <td>Mainstream</td>\n",
       "      <td>A young woman thinks she’s found a path to int...</td>\n",
       "      <td>/lpDI75ThFlgMvgCxetaIU0cJeLy.jpg</td>\n",
       "      <td>/6dvHSlWmEhOJDFD75ncHeBZ2n9t.jpg</td>\n",
       "      <td>5000000</td>\n",
       "      <td>2021-05-07</td>\n",
       "      <td>49638</td>\n",
       "      <td>95</td>\n",
       "      <td>2021</td>\n",
       "      <td>Rlpm36Vi-3U</td>\n",
       "      <td>low</td>\n",
       "    </tr>\n",
       "    <tr>\n",
       "      <th>2</th>\n",
       "      <td>87440</td>\n",
       "      <td>Drama</td>\n",
       "      <td>Struck by Lightning</td>\n",
       "      <td>After being struck and killed by lightning, a ...</td>\n",
       "      <td>/7LM4nm9QSmIUWvIVYGiEXwqMfO8.jpg</td>\n",
       "      <td>/iceZkHBrLTgeXZF7Z3gANJgiNQM.jpg</td>\n",
       "      <td>0</td>\n",
       "      <td>2013-06-19</td>\n",
       "      <td>22930</td>\n",
       "      <td>90</td>\n",
       "      <td>2013</td>\n",
       "      <td>JAakou4Kdhw</td>\n",
       "      <td>low</td>\n",
       "    </tr>\n",
       "    <tr>\n",
       "      <th>3</th>\n",
       "      <td>8414</td>\n",
       "      <td>Drama</td>\n",
       "      <td>Interview</td>\n",
       "      <td>After falling out with his editor, a fading po...</td>\n",
       "      <td>/u7joMKgr6olZ4A8nGgztYJR1YDG.jpg</td>\n",
       "      <td>/jObPGoyEcBFB8x5j3Htabavgcxx.jpg</td>\n",
       "      <td>0</td>\n",
       "      <td>2007-07-13</td>\n",
       "      <td>1441846</td>\n",
       "      <td>84</td>\n",
       "      <td>2007</td>\n",
       "      <td>vCHUibmnZi4</td>\n",
       "      <td>low</td>\n",
       "    </tr>\n",
       "    <tr>\n",
       "      <th>4</th>\n",
       "      <td>257440</td>\n",
       "      <td>Drama</td>\n",
       "      <td>Term Life</td>\n",
       "      <td>If Nick Barrow can stay alive for 21 days, he'...</td>\n",
       "      <td>/8yM0mNM5begExtTdmsi5ZnK4Ipm.jpg</td>\n",
       "      <td>/9oAVYDh7RHW3wzQWbGsRB7RFE6J.jpg</td>\n",
       "      <td>16500000</td>\n",
       "      <td>2016-04-29</td>\n",
       "      <td>21256</td>\n",
       "      <td>93</td>\n",
       "      <td>2016</td>\n",
       "      <td>WgNWtyKHods</td>\n",
       "      <td>low</td>\n",
       "    </tr>\n",
       "    <tr>\n",
       "      <th>...</th>\n",
       "      <td>...</td>\n",
       "      <td>...</td>\n",
       "      <td>...</td>\n",
       "      <td>...</td>\n",
       "      <td>...</td>\n",
       "      <td>...</td>\n",
       "      <td>...</td>\n",
       "      <td>...</td>\n",
       "      <td>...</td>\n",
       "      <td>...</td>\n",
       "      <td>...</td>\n",
       "      <td>...</td>\n",
       "      <td>...</td>\n",
       "    </tr>\n",
       "    <tr>\n",
       "      <th>144</th>\n",
       "      <td>585</td>\n",
       "      <td>Family</td>\n",
       "      <td>Monsters, Inc.</td>\n",
       "      <td>Lovable Sulley and his wisecracking sidekick M...</td>\n",
       "      <td>/sDTnMOJ3H5wI38OxObmCtK7wfd5.jpg</td>\n",
       "      <td>/qjlbN6aK1qgeg3SspFVovT2D1Me.jpg</td>\n",
       "      <td>115000000</td>\n",
       "      <td>2001-11-01</td>\n",
       "      <td>579700000</td>\n",
       "      <td>92</td>\n",
       "      <td>2001</td>\n",
       "      <td>GnuQH_ASzu8</td>\n",
       "      <td>high</td>\n",
       "    </tr>\n",
       "    <tr>\n",
       "      <th>145</th>\n",
       "      <td>73723</td>\n",
       "      <td>Family</td>\n",
       "      <td>The Lorax</td>\n",
       "      <td>A 12-year-old boy searches for the one thing t...</td>\n",
       "      <td>/71FjlP0qZPc1iymcHf8u5vXfH50.jpg</td>\n",
       "      <td>/tePFnZFw5JvjwjQjaKkqDPNMLPU.jpg</td>\n",
       "      <td>70000000</td>\n",
       "      <td>2012-03-01</td>\n",
       "      <td>349305397</td>\n",
       "      <td>86</td>\n",
       "      <td>2012</td>\n",
       "      <td>XbGnmKPSq9k</td>\n",
       "      <td>high</td>\n",
       "    </tr>\n",
       "    <tr>\n",
       "      <th>146</th>\n",
       "      <td>11887</td>\n",
       "      <td>Family</td>\n",
       "      <td>High School Musical 3: Senior Year</td>\n",
       "      <td>As seniors in high school, Troy and Gabriella ...</td>\n",
       "      <td>/1czvi8gsu675rH2XjSxHyPBUv95.jpg</td>\n",
       "      <td>/aq2o1wT0crBOTxof36O6KTyjpgE.jpg</td>\n",
       "      <td>11000000</td>\n",
       "      <td>2008-10-11</td>\n",
       "      <td>252909177</td>\n",
       "      <td>112</td>\n",
       "      <td>2008</td>\n",
       "      <td>1S8RTKL5cW8</td>\n",
       "      <td>high</td>\n",
       "    </tr>\n",
       "    <tr>\n",
       "      <th>147</th>\n",
       "      <td>438695</td>\n",
       "      <td>Family</td>\n",
       "      <td>Sing 2</td>\n",
       "      <td>Buster and his new cast now have their sights ...</td>\n",
       "      <td>/ztiFxuG0gC6wQ8y7JZFYbCQyN4Y.jpg</td>\n",
       "      <td>/aWeKITRFbbwY8txG5uCj4rMCfSP.jpg</td>\n",
       "      <td>85000000</td>\n",
       "      <td>2021-12-01</td>\n",
       "      <td>408402685</td>\n",
       "      <td>109</td>\n",
       "      <td>2021</td>\n",
       "      <td>EPZu5MA2uqI</td>\n",
       "      <td>high</td>\n",
       "    </tr>\n",
       "    <tr>\n",
       "      <th>148</th>\n",
       "      <td>6477</td>\n",
       "      <td>Family</td>\n",
       "      <td>Alvin and the Chipmunks</td>\n",
       "      <td>A struggling songwriter named Dave Seville fin...</td>\n",
       "      <td>/lKkkogTlIQT8o83GFQZZ3CA9MzB.jpg</td>\n",
       "      <td>/vRiB9uvcD0WYp7k2pAeWz9ukpuN.jpg</td>\n",
       "      <td>60000000</td>\n",
       "      <td>2007-12-13</td>\n",
       "      <td>361366633</td>\n",
       "      <td>92</td>\n",
       "      <td>2007</td>\n",
       "      <td>Jb0hEE9yAbU</td>\n",
       "      <td>high</td>\n",
       "    </tr>\n",
       "  </tbody>\n",
       "</table>\n",
       "<p>149 rows × 13 columns</p>\n",
       "</div>"
      ],
      "text/plain": [
       "         id  genres                      original_title  \\\n",
       "0    628922   Drama                        Asphalt City   \n",
       "1    557950   Drama                          Mainstream   \n",
       "2     87440   Drama                 Struck by Lightning   \n",
       "3      8414   Drama                           Interview   \n",
       "4    257440   Drama                           Term Life   \n",
       "..      ...     ...                                 ...   \n",
       "144     585  Family                      Monsters, Inc.   \n",
       "145   73723  Family                           The Lorax   \n",
       "146   11887  Family  High School Musical 3: Senior Year   \n",
       "147  438695  Family                              Sing 2   \n",
       "148    6477  Family             Alvin and the Chipmunks   \n",
       "\n",
       "                                              overview  \\\n",
       "0    A young paramedic is paired with a seasoned pa...   \n",
       "1    A young woman thinks she’s found a path to int...   \n",
       "2    After being struck and killed by lightning, a ...   \n",
       "3    After falling out with his editor, a fading po...   \n",
       "4    If Nick Barrow can stay alive for 21 days, he'...   \n",
       "..                                                 ...   \n",
       "144  Lovable Sulley and his wisecracking sidekick M...   \n",
       "145  A 12-year-old boy searches for the one thing t...   \n",
       "146  As seniors in high school, Troy and Gabriella ...   \n",
       "147  Buster and his new cast now have their sights ...   \n",
       "148  A struggling songwriter named Dave Seville fin...   \n",
       "\n",
       "                        backdrop_path                       poster_path  \\\n",
       "0    /yPiCixZDLeBXF8xO4xpw8SJlaKn.jpg  /qXcd7wY7MmRs36fQt83iSMJelvV.jpg   \n",
       "1    /lpDI75ThFlgMvgCxetaIU0cJeLy.jpg  /6dvHSlWmEhOJDFD75ncHeBZ2n9t.jpg   \n",
       "2    /7LM4nm9QSmIUWvIVYGiEXwqMfO8.jpg  /iceZkHBrLTgeXZF7Z3gANJgiNQM.jpg   \n",
       "3    /u7joMKgr6olZ4A8nGgztYJR1YDG.jpg  /jObPGoyEcBFB8x5j3Htabavgcxx.jpg   \n",
       "4    /8yM0mNM5begExtTdmsi5ZnK4Ipm.jpg  /9oAVYDh7RHW3wzQWbGsRB7RFE6J.jpg   \n",
       "..                                ...                               ...   \n",
       "144  /sDTnMOJ3H5wI38OxObmCtK7wfd5.jpg  /qjlbN6aK1qgeg3SspFVovT2D1Me.jpg   \n",
       "145  /71FjlP0qZPc1iymcHf8u5vXfH50.jpg  /tePFnZFw5JvjwjQjaKkqDPNMLPU.jpg   \n",
       "146  /1czvi8gsu675rH2XjSxHyPBUv95.jpg  /aq2o1wT0crBOTxof36O6KTyjpgE.jpg   \n",
       "147  /ztiFxuG0gC6wQ8y7JZFYbCQyN4Y.jpg  /aWeKITRFbbwY8txG5uCj4rMCfSP.jpg   \n",
       "148  /lKkkogTlIQT8o83GFQZZ3CA9MzB.jpg  /vRiB9uvcD0WYp7k2pAeWz9ukpuN.jpg   \n",
       "\n",
       "        budget release_date    revenue  runtime  year      trailer revenue_bin  \n",
       "0            0   2024-03-28     488002      120  2024  m5buqYihMg8         low  \n",
       "1      5000000   2021-05-07      49638       95  2021  Rlpm36Vi-3U         low  \n",
       "2            0   2013-06-19      22930       90  2013  JAakou4Kdhw         low  \n",
       "3            0   2007-07-13    1441846       84  2007  vCHUibmnZi4         low  \n",
       "4     16500000   2016-04-29      21256       93  2016  WgNWtyKHods         low  \n",
       "..         ...          ...        ...      ...   ...          ...         ...  \n",
       "144  115000000   2001-11-01  579700000       92  2001  GnuQH_ASzu8        high  \n",
       "145   70000000   2012-03-01  349305397       86  2012  XbGnmKPSq9k        high  \n",
       "146   11000000   2008-10-11  252909177      112  2008  1S8RTKL5cW8        high  \n",
       "147   85000000   2021-12-01  408402685      109  2021  EPZu5MA2uqI        high  \n",
       "148   60000000   2007-12-13  361366633       92  2007  Jb0hEE9yAbU        high  \n",
       "\n",
       "[149 rows x 13 columns]"
      ]
     },
     "execution_count": 2,
     "metadata": {},
     "output_type": "execute_result"
    }
   ],
   "source": [
    "\n",
    "# Load your dataset\n",
    "df = pd.read_csv(\"../movie_data_2000_with_trailers.csv\")\n",
    "\n",
    "# Clean and explode genres\n",
    "df['genres'] = df['genres'].fillna('').apply(lambda g: [x.strip() for x in g.split(',') if x.strip()])\n",
    "exploded = df.explode('genres')\n",
    "\n",
    "# Filter down to top genres\n",
    "top_genres = exploded['genres'].value_counts().head(10).index.tolist()\n",
    "samples_per_genre = 15  # 10 genres x 15 = 150\n",
    "\n",
    "balanced_samples = []\n",
    "\n",
    "for genre in top_genres:\n",
    "    genre_df = exploded[exploded['genres'] == genre]\n",
    "    \n",
    "    # Drop entries without valid revenue or trailer\n",
    "    genre_df = genre_df.dropna(subset=['revenue', 'trailer'])\n",
    "    genre_df = genre_df[genre_df['revenue'] > 0]\n",
    "    \n",
    "    if len(genre_df) < 3:\n",
    "        continue  # skip genre if too small\n",
    "\n",
    "    # Bin by revenue (low/mid/high)\n",
    "    genre_df['revenue_bin'] = pd.qcut(genre_df['revenue'], q=3, labels=['low', 'mid', 'high'], duplicates='drop')\n",
    "    \n",
    "    # Sample evenly across bins\n",
    "    per_bin = samples_per_genre // 3\n",
    "    genre_sample = pd.concat([\n",
    "        genre_df[genre_df['revenue_bin'] == bin_label].sample(\n",
    "            n=min(per_bin, len(genre_df[genre_df['revenue_bin'] == bin_label])),\n",
    "            random_state=42\n",
    "        )\n",
    "        for bin_label in ['low', 'mid', 'high']\n",
    "    ])\n",
    "    \n",
    "    balanced_samples.append(genre_sample)\n",
    "\n",
    "# Merge and deduplicate\n",
    "sampled_df = pd.concat(balanced_samples).drop_duplicates(subset='id').reset_index(drop=True)\n",
    "sampled_df"
   ]
  },
  {
   "cell_type": "code",
   "execution_count": 3,
   "metadata": {},
   "outputs": [
    {
     "data": {
      "image/png": "[encoded data removed]",
      "text/plain": [
       "<Figure size 1000x600 with 1 Axes>"
      ]
     },
     "metadata": {},
     "output_type": "display_data"
    }
   ],
   "source": [
    "plt.figure(figsize=(10, 6))\n",
    "plt.hist(sampled_df['revenue'], bins=30, color='skyblue', edgecolor='black')\n",
    "plt.xlabel('Revenue ($)', fontsize=12)\n",
    "plt.ylabel('Number of Trailers', fontsize=12)\n",
    "plt.title('Revenue Distribution Across Sampled Trailers', fontsize=14)\n",
    "plt.grid(True)\n",
    "plt.tight_layout()\n",
    "plt.show()"
   ]
  },
  {
   "cell_type": "markdown",
   "metadata": {},
   "source": [
    "Extract keyframes from trailers - 1 per second"
   ]
  },
  {
   "cell_type": "code",
   "execution_count": 33,
   "metadata": {},
   "outputs": [
    {
     "name": "stderr",
     "output_type": "stream",
     "text": [
      " 11%|█         | 16/149 [01:27<10:10,  4.59s/it]ERROR: [youtube] s4TAfaddV4w: Video unavailable. The uploader has not made this video available in your country\n",
      " 11%|█▏        | 17/149 [01:28<08:05,  3.68s/it]"
     ]
    },
    {
     "name": "stdout",
     "output_type": "stream",
     "text": [
      "Error processing s4TAfaddV4w: ERROR: [youtube] s4TAfaddV4w: Video unavailable. The uploader has not made this video available in your country\n"
     ]
    },
    {
     "name": "stderr",
     "output_type": "stream",
     "text": [
      " 26%|██▌       | 38/149 [02:54<07:36,  4.11s/it]ERROR: [youtube] aqa3YTtwvaU: Video unavailable. The uploader has not made this video available in your country\n",
      " 26%|██▌       | 39/149 [02:55<05:55,  3.23s/it]"
     ]
    },
    {
     "name": "stdout",
     "output_type": "stream",
     "text": [
      "Error processing aqa3YTtwvaU: ERROR: [youtube] aqa3YTtwvaU: Video unavailable. The uploader has not made this video available in your country\n"
     ]
    },
    {
     "name": "stderr",
     "output_type": "stream",
     "text": [
      " 33%|███▎      | 49/149 [03:43<09:34,  5.74s/it]ERROR: [youtube] DWfPGIMDhNw: Video unavailable. The uploader has not made this video available in your country\n",
      " 34%|███▎      | 50/149 [03:44<07:14,  4.39s/it]"
     ]
    },
    {
     "name": "stdout",
     "output_type": "stream",
     "text": [
      "Error processing DWfPGIMDhNw: ERROR: [youtube] DWfPGIMDhNw: Video unavailable. The uploader has not made this video available in your country\n"
     ]
    },
    {
     "name": "stderr",
     "output_type": "stream",
     "text": [
      " 50%|█████     | 75/149 [06:17<10:21,  8.40s/it]ERROR: [youtube] -Wjjo30JJck: Sign in to confirm your age. This video may be inappropriate for some users. Use --cookies-from-browser or --cookies for the authentication. See  https://github.com/yt-dlp/yt-dlp/wiki/FAQ#how-do-i-pass-cookies-to-yt-dlp  for how to manually pass cookies. Also see  https://github.com/yt-dlp/yt-dlp/wiki/Extractors#exporting-youtube-cookies  for tips on effectively exporting YouTube cookies\n",
      " 51%|█████     | 76/149 [06:18<07:34,  6.23s/it]"
     ]
    },
    {
     "name": "stdout",
     "output_type": "stream",
     "text": [
      "Error processing -Wjjo30JJck: ERROR: [youtube] -Wjjo30JJck: Sign in to confirm your age. This video may be inappropriate for some users. Use --cookies-from-browser or --cookies for the authentication. See  https://github.com/yt-dlp/yt-dlp/wiki/FAQ#how-do-i-pass-cookies-to-yt-dlp  for how to manually pass cookies. Also see  https://github.com/yt-dlp/yt-dlp/wiki/Extractors#exporting-youtube-cookies  for tips on effectively exporting YouTube cookies\n"
     ]
    },
    {
     "name": "stderr",
     "output_type": "stream",
     "text": [
      " 58%|█████▊    | 86/149 [07:31<06:45,  6.44s/it]ERROR: [youtube] npFBRp716Qw: Video unavailable\n",
      " 58%|█████▊    | 87/149 [07:32<04:54,  4.75s/it]"
     ]
    },
    {
     "name": "stdout",
     "output_type": "stream",
     "text": [
      "Error processing npFBRp716Qw: ERROR: [youtube] npFBRp716Qw: Video unavailable\n"
     ]
    },
    {
     "name": "stderr",
     "output_type": "stream",
     "text": [
      "ERROR: [youtube] x3ErWNBX9Rc: Video unavailable. The uploader has not made this video available in your country\n",
      " 59%|█████▉    | 88/149 [07:33<03:44,  3.68s/it]"
     ]
    },
    {
     "name": "stdout",
     "output_type": "stream",
     "text": [
      "Error processing x3ErWNBX9Rc: ERROR: [youtube] x3ErWNBX9Rc: Video unavailable. The uploader has not made this video available in your country\n"
     ]
    },
    {
     "name": "stderr",
     "output_type": "stream",
     "text": [
      " 62%|██████▏   | 92/149 [08:14<10:55, 11.50s/it]"
     ]
    },
    {
     "name": "stdout",
     "output_type": "stream",
     "text": [
      "Could not open stream for video wRbWvJqOc24\n"
     ]
    },
    {
     "name": "stderr",
     "output_type": "stream",
     "text": [
      " 62%|██████▏   | 93/149 [08:43<15:35, 16.71s/it]ERROR: [youtube:truncated_id] 80112802: Incomplete YouTube ID 80112802. URL https://www.youtube.com/watch?v=80112802 looks truncated.\n"
     ]
    },
    {
     "name": "stdout",
     "output_type": "stream",
     "text": [
      "Could not open stream for video fpp5m6c0-jc\n",
      "Error processing 80112802: ERROR: [youtube:truncated_id] 80112802: Incomplete YouTube ID 80112802. URL https://www.youtube.com/watch?v=80112802 looks truncated.\n"
     ]
    },
    {
     "name": "stderr",
     "output_type": "stream",
     "text": [
      " 72%|███████▏  | 108/149 [10:46<09:01, 13.21s/it]"
     ]
    },
    {
     "name": "stdout",
     "output_type": "stream",
     "text": [
      "Could not open stream for video 42jSUAMKjww\n"
     ]
    },
    {
     "name": "stderr",
     "output_type": "stream",
     "text": [
      " 93%|█████████▎| 138/149 [13:27<02:06, 11.50s/it]"
     ]
    },
    {
     "name": "stdout",
     "output_type": "stream",
     "text": [
      "Could not open stream for video MoxCRcmCydg\n"
     ]
    },
    {
     "name": "stderr",
     "output_type": "stream",
     "text": [
      "ERROR: [youtube] rwXe5eKZr6M: This video has been removed for violating YouTube's Terms of Service\n",
      " 93%|█████████▎| 139/149 [13:28<01:22,  8.27s/it]"
     ]
    },
    {
     "name": "stdout",
     "output_type": "stream",
     "text": [
      "Error processing rwXe5eKZr6M: ERROR: [youtube] rwXe5eKZr6M: This video has been removed for violating YouTube's Terms of Service\n"
     ]
    },
    {
     "name": "stderr",
     "output_type": "stream",
     "text": [
      " 99%|█████████▉| 148/149 [14:15<00:04,  4.60s/it]ERROR: [youtube] Jb0hEE9yAbU: Private video. Sign in if you've been granted access to this video. Use --cookies-from-browser or --cookies for the authentication. See  https://github.com/yt-dlp/yt-dlp/wiki/FAQ#how-do-i-pass-cookies-to-yt-dlp  for how to manually pass cookies. Also see  https://github.com/yt-dlp/yt-dlp/wiki/Extractors#exporting-youtube-cookies  for tips on effectively exporting YouTube cookies\n",
      "100%|██████████| 149/149 [14:16<00:00,  5.75s/it]"
     ]
    },
    {
     "name": "stdout",
     "output_type": "stream",
     "text": [
      "Error processing Jb0hEE9yAbU: ERROR: [youtube] Jb0hEE9yAbU: Private video. Sign in if you've been granted access to this video. Use --cookies-from-browser or --cookies for the authentication. See  https://github.com/yt-dlp/yt-dlp/wiki/FAQ#how-do-i-pass-cookies-to-yt-dlp  for how to manually pass cookies. Also see  https://github.com/yt-dlp/yt-dlp/wiki/Extractors#exporting-youtube-cookies  for tips on effectively exporting YouTube cookies\n"
     ]
    },
    {
     "name": "stderr",
     "output_type": "stream",
     "text": [
      "\n"
     ]
    }
   ],
   "source": [
    "def get_video_stream_url(video_id):\n",
    "    url = f\"https://www.youtube.com/watch?v={video_id}\"\n",
    "    ydl_opts = {\n",
    "        'quiet': True,\n",
    "        'format': 'best[ext=mp4][height<=480]',\n",
    "    }\n",
    "    with yt_dlp.YoutubeDL(ydl_opts) as ydl:\n",
    "        info = ydl.extract_info(url, download=False)\n",
    "        return info['url']\n",
    "\n",
    "def extract_keyframes_from_stream(stream_url, output_dir, video_id):\n",
    "    cap = cv2.VideoCapture(stream_url)\n",
    "    if not cap.isOpened():\n",
    "        print(f\"Could not open stream for video {video_id}\")\n",
    "        return\n",
    "    \n",
    "    fps = cap.get(cv2.CAP_PROP_FPS) or 30\n",
    "    frame_interval = int(fps)\n",
    "    frame_idx = 0\n",
    "    saved = 0\n",
    "    os.makedirs(output_dir, exist_ok=True)\n",
    "\n",
    "    while True:\n",
    "        ret, frame = cap.read()\n",
    "        if not ret:\n",
    "            break\n",
    "        if frame_idx % frame_interval == 0:\n",
    "            frame_path = os.path.join(output_dir, f\"{video_id}_frame{saved}.jpg\")\n",
    "            cv2.imwrite(frame_path, frame)\n",
    "            saved += 1\n",
    "        frame_idx += 1\n",
    "    cap.release()\n",
    "\n",
    "for _, row in tqdm(sampled_df.iterrows(), total=len(sampled_df)):\n",
    "    video_id = row['trailer']\n",
    "    try:\n",
    "        stream_url = get_video_stream_url(video_id)\n",
    "        extract_keyframes_from_stream(stream_url, os.path.join(\"frames\", video_id), video_id)\n",
    "    except Exception as e:\n",
    "        print(f\"Error processing {video_id}: {e}\")"
   ]
  },
  {
   "cell_type": "markdown",
   "metadata": {},
   "source": [
    "Preprocess data"
   ]
  },
  {
   "cell_type": "code",
   "execution_count": 18,
   "metadata": {},
   "outputs": [
    {
     "data": {
      "text/html": [
       "<div>\n",
       "<style scoped>\n",
       "    .dataframe tbody tr th:only-of-type {\n",
       "        vertical-align: middle;\n",
       "    }\n",
       "\n",
       "    .dataframe tbody tr th {\n",
       "        vertical-align: top;\n",
       "    }\n",
       "\n",
       "    .dataframe thead th {\n",
       "        text-align: right;\n",
       "    }\n",
       "</style>\n",
       "<table border=\"1\" class=\"dataframe\">\n",
       "  <thead>\n",
       "    <tr style=\"text-align: right;\">\n",
       "      <th></th>\n",
       "      <th>id</th>\n",
       "      <th>genres</th>\n",
       "      <th>original_title</th>\n",
       "      <th>overview</th>\n",
       "      <th>backdrop_path</th>\n",
       "      <th>poster_path</th>\n",
       "      <th>budget</th>\n",
       "      <th>release_date</th>\n",
       "      <th>revenue</th>\n",
       "      <th>runtime</th>\n",
       "      <th>year</th>\n",
       "      <th>trailer</th>\n",
       "      <th>revenue_bin</th>\n",
       "      <th>log_revenue</th>\n",
       "    </tr>\n",
       "  </thead>\n",
       "  <tbody>\n",
       "    <tr>\n",
       "      <th>0</th>\n",
       "      <td>628922</td>\n",
       "      <td>Drama</td>\n",
       "      <td>Asphalt City</td>\n",
       "      <td>A young paramedic is paired with a seasoned pa...</td>\n",
       "      <td>/yPiCixZDLeBXF8xO4xpw8SJlaKn.jpg</td>\n",
       "      <td>/qXcd7wY7MmRs36fQt83iSMJelvV.jpg</td>\n",
       "      <td>0</td>\n",
       "      <td>2024-03-28</td>\n",
       "      <td>488002</td>\n",
       "      <td>120</td>\n",
       "      <td>2024</td>\n",
       "      <td>m5buqYihMg8</td>\n",
       "      <td>low</td>\n",
       "      <td>13.098077</td>\n",
       "    </tr>\n",
       "    <tr>\n",
       "      <th>1</th>\n",
       "      <td>557950</td>\n",
       "      <td>Drama</td>\n",
       "      <td>Mainstream</td>\n",
       "      <td>A young woman thinks she’s found a path to int...</td>\n",
       "      <td>/lpDI75ThFlgMvgCxetaIU0cJeLy.jpg</td>\n",
       "      <td>/6dvHSlWmEhOJDFD75ncHeBZ2n9t.jpg</td>\n",
       "      <td>5000000</td>\n",
       "      <td>2021-05-07</td>\n",
       "      <td>49638</td>\n",
       "      <td>95</td>\n",
       "      <td>2021</td>\n",
       "      <td>Rlpm36Vi-3U</td>\n",
       "      <td>low</td>\n",
       "      <td>10.812532</td>\n",
       "    </tr>\n",
       "    <tr>\n",
       "      <th>2</th>\n",
       "      <td>87440</td>\n",
       "      <td>Drama</td>\n",
       "      <td>Struck by Lightning</td>\n",
       "      <td>After being struck and killed by lightning, a ...</td>\n",
       "      <td>/7LM4nm9QSmIUWvIVYGiEXwqMfO8.jpg</td>\n",
       "      <td>/iceZkHBrLTgeXZF7Z3gANJgiNQM.jpg</td>\n",
       "      <td>0</td>\n",
       "      <td>2013-06-19</td>\n",
       "      <td>22930</td>\n",
       "      <td>90</td>\n",
       "      <td>2013</td>\n",
       "      <td>JAakou4Kdhw</td>\n",
       "      <td>low</td>\n",
       "      <td>10.040245</td>\n",
       "    </tr>\n",
       "    <tr>\n",
       "      <th>3</th>\n",
       "      <td>8414</td>\n",
       "      <td>Drama</td>\n",
       "      <td>Interview</td>\n",
       "      <td>After falling out with his editor, a fading po...</td>\n",
       "      <td>/u7joMKgr6olZ4A8nGgztYJR1YDG.jpg</td>\n",
       "      <td>/jObPGoyEcBFB8x5j3Htabavgcxx.jpg</td>\n",
       "      <td>0</td>\n",
       "      <td>2007-07-13</td>\n",
       "      <td>1441846</td>\n",
       "      <td>84</td>\n",
       "      <td>2007</td>\n",
       "      <td>vCHUibmnZi4</td>\n",
       "      <td>low</td>\n",
       "      <td>14.181435</td>\n",
       "    </tr>\n",
       "    <tr>\n",
       "      <th>4</th>\n",
       "      <td>257440</td>\n",
       "      <td>Drama</td>\n",
       "      <td>Term Life</td>\n",
       "      <td>If Nick Barrow can stay alive for 21 days, he'...</td>\n",
       "      <td>/8yM0mNM5begExtTdmsi5ZnK4Ipm.jpg</td>\n",
       "      <td>/9oAVYDh7RHW3wzQWbGsRB7RFE6J.jpg</td>\n",
       "      <td>16500000</td>\n",
       "      <td>2016-04-29</td>\n",
       "      <td>21256</td>\n",
       "      <td>93</td>\n",
       "      <td>2016</td>\n",
       "      <td>WgNWtyKHods</td>\n",
       "      <td>low</td>\n",
       "      <td>9.964442</td>\n",
       "    </tr>\n",
       "    <tr>\n",
       "      <th>...</th>\n",
       "      <td>...</td>\n",
       "      <td>...</td>\n",
       "      <td>...</td>\n",
       "      <td>...</td>\n",
       "      <td>...</td>\n",
       "      <td>...</td>\n",
       "      <td>...</td>\n",
       "      <td>...</td>\n",
       "      <td>...</td>\n",
       "      <td>...</td>\n",
       "      <td>...</td>\n",
       "      <td>...</td>\n",
       "      <td>...</td>\n",
       "      <td>...</td>\n",
       "    </tr>\n",
       "    <tr>\n",
       "      <th>134</th>\n",
       "      <td>426543</td>\n",
       "      <td>Family</td>\n",
       "      <td>The Nutcracker and the Four Realms</td>\n",
       "      <td>When Clara’s mother leaves her a mysterious gi...</td>\n",
       "      <td>/l2ji4YiNSPBV69WjGBgU0gCvRqy.jpg</td>\n",
       "      <td>/9vPDY8e7YxLwgVum7YZIUJbr4qc.jpg</td>\n",
       "      <td>120000000</td>\n",
       "      <td>2018-10-26</td>\n",
       "      <td>173961069</td>\n",
       "      <td>99</td>\n",
       "      <td>2018</td>\n",
       "      <td>FacrK2lLbYU</td>\n",
       "      <td>mid</td>\n",
       "      <td>18.974342</td>\n",
       "    </tr>\n",
       "    <tr>\n",
       "      <th>135</th>\n",
       "      <td>585</td>\n",
       "      <td>Family</td>\n",
       "      <td>Monsters, Inc.</td>\n",
       "      <td>Lovable Sulley and his wisecracking sidekick M...</td>\n",
       "      <td>/sDTnMOJ3H5wI38OxObmCtK7wfd5.jpg</td>\n",
       "      <td>/qjlbN6aK1qgeg3SspFVovT2D1Me.jpg</td>\n",
       "      <td>115000000</td>\n",
       "      <td>2001-11-01</td>\n",
       "      <td>579700000</td>\n",
       "      <td>92</td>\n",
       "      <td>2001</td>\n",
       "      <td>GnuQH_ASzu8</td>\n",
       "      <td>high</td>\n",
       "      <td>20.178021</td>\n",
       "    </tr>\n",
       "    <tr>\n",
       "      <th>136</th>\n",
       "      <td>73723</td>\n",
       "      <td>Family</td>\n",
       "      <td>The Lorax</td>\n",
       "      <td>A 12-year-old boy searches for the one thing t...</td>\n",
       "      <td>/71FjlP0qZPc1iymcHf8u5vXfH50.jpg</td>\n",
       "      <td>/tePFnZFw5JvjwjQjaKkqDPNMLPU.jpg</td>\n",
       "      <td>70000000</td>\n",
       "      <td>2012-03-01</td>\n",
       "      <td>349305397</td>\n",
       "      <td>86</td>\n",
       "      <td>2012</td>\n",
       "      <td>XbGnmKPSq9k</td>\n",
       "      <td>high</td>\n",
       "      <td>19.671457</td>\n",
       "    </tr>\n",
       "    <tr>\n",
       "      <th>137</th>\n",
       "      <td>11887</td>\n",
       "      <td>Family</td>\n",
       "      <td>High School Musical 3: Senior Year</td>\n",
       "      <td>As seniors in high school, Troy and Gabriella ...</td>\n",
       "      <td>/1czvi8gsu675rH2XjSxHyPBUv95.jpg</td>\n",
       "      <td>/aq2o1wT0crBOTxof36O6KTyjpgE.jpg</td>\n",
       "      <td>11000000</td>\n",
       "      <td>2008-10-11</td>\n",
       "      <td>252909177</td>\n",
       "      <td>112</td>\n",
       "      <td>2008</td>\n",
       "      <td>1S8RTKL5cW8</td>\n",
       "      <td>high</td>\n",
       "      <td>19.348541</td>\n",
       "    </tr>\n",
       "    <tr>\n",
       "      <th>138</th>\n",
       "      <td>438695</td>\n",
       "      <td>Family</td>\n",
       "      <td>Sing 2</td>\n",
       "      <td>Buster and his new cast now have their sights ...</td>\n",
       "      <td>/ztiFxuG0gC6wQ8y7JZFYbCQyN4Y.jpg</td>\n",
       "      <td>/aWeKITRFbbwY8txG5uCj4rMCfSP.jpg</td>\n",
       "      <td>85000000</td>\n",
       "      <td>2021-12-01</td>\n",
       "      <td>408402685</td>\n",
       "      <td>109</td>\n",
       "      <td>2021</td>\n",
       "      <td>EPZu5MA2uqI</td>\n",
       "      <td>high</td>\n",
       "      <td>19.827764</td>\n",
       "    </tr>\n",
       "  </tbody>\n",
       "</table>\n",
       "<p>139 rows × 14 columns</p>\n",
       "</div>"
      ],
      "text/plain": [
       "         id  genres                      original_title  \\\n",
       "0    628922   Drama                        Asphalt City   \n",
       "1    557950   Drama                          Mainstream   \n",
       "2     87440   Drama                 Struck by Lightning   \n",
       "3      8414   Drama                           Interview   \n",
       "4    257440   Drama                           Term Life   \n",
       "..      ...     ...                                 ...   \n",
       "134  426543  Family  The Nutcracker and the Four Realms   \n",
       "135     585  Family                      Monsters, Inc.   \n",
       "136   73723  Family                           The Lorax   \n",
       "137   11887  Family  High School Musical 3: Senior Year   \n",
       "138  438695  Family                              Sing 2   \n",
       "\n",
       "                                              overview  \\\n",
       "0    A young paramedic is paired with a seasoned pa...   \n",
       "1    A young woman thinks she’s found a path to int...   \n",
       "2    After being struck and killed by lightning, a ...   \n",
       "3    After falling out with his editor, a fading po...   \n",
       "4    If Nick Barrow can stay alive for 21 days, he'...   \n",
       "..                                                 ...   \n",
       "134  When Clara’s mother leaves her a mysterious gi...   \n",
       "135  Lovable Sulley and his wisecracking sidekick M...   \n",
       "136  A 12-year-old boy searches for the one thing t...   \n",
       "137  As seniors in high school, Troy and Gabriella ...   \n",
       "138  Buster and his new cast now have their sights ...   \n",
       "\n",
       "                        backdrop_path                       poster_path  \\\n",
       "0    /yPiCixZDLeBXF8xO4xpw8SJlaKn.jpg  /qXcd7wY7MmRs36fQt83iSMJelvV.jpg   \n",
       "1    /lpDI75ThFlgMvgCxetaIU0cJeLy.jpg  /6dvHSlWmEhOJDFD75ncHeBZ2n9t.jpg   \n",
       "2    /7LM4nm9QSmIUWvIVYGiEXwqMfO8.jpg  /iceZkHBrLTgeXZF7Z3gANJgiNQM.jpg   \n",
       "3    /u7joMKgr6olZ4A8nGgztYJR1YDG.jpg  /jObPGoyEcBFB8x5j3Htabavgcxx.jpg   \n",
       "4    /8yM0mNM5begExtTdmsi5ZnK4Ipm.jpg  /9oAVYDh7RHW3wzQWbGsRB7RFE6J.jpg   \n",
       "..                                ...                               ...   \n",
       "134  /l2ji4YiNSPBV69WjGBgU0gCvRqy.jpg  /9vPDY8e7YxLwgVum7YZIUJbr4qc.jpg   \n",
       "135  /sDTnMOJ3H5wI38OxObmCtK7wfd5.jpg  /qjlbN6aK1qgeg3SspFVovT2D1Me.jpg   \n",
       "136  /71FjlP0qZPc1iymcHf8u5vXfH50.jpg  /tePFnZFw5JvjwjQjaKkqDPNMLPU.jpg   \n",
       "137  /1czvi8gsu675rH2XjSxHyPBUv95.jpg  /aq2o1wT0crBOTxof36O6KTyjpgE.jpg   \n",
       "138  /ztiFxuG0gC6wQ8y7JZFYbCQyN4Y.jpg  /aWeKITRFbbwY8txG5uCj4rMCfSP.jpg   \n",
       "\n",
       "        budget release_date    revenue  runtime  year      trailer  \\\n",
       "0            0   2024-03-28     488002      120  2024  m5buqYihMg8   \n",
       "1      5000000   2021-05-07      49638       95  2021  Rlpm36Vi-3U   \n",
       "2            0   2013-06-19      22930       90  2013  JAakou4Kdhw   \n",
       "3            0   2007-07-13    1441846       84  2007  vCHUibmnZi4   \n",
       "4     16500000   2016-04-29      21256       93  2016  WgNWtyKHods   \n",
       "..         ...          ...        ...      ...   ...          ...   \n",
       "134  120000000   2018-10-26  173961069       99  2018  FacrK2lLbYU   \n",
       "135  115000000   2001-11-01  579700000       92  2001  GnuQH_ASzu8   \n",
       "136   70000000   2012-03-01  349305397       86  2012  XbGnmKPSq9k   \n",
       "137   11000000   2008-10-11  252909177      112  2008  1S8RTKL5cW8   \n",
       "138   85000000   2021-12-01  408402685      109  2021  EPZu5MA2uqI   \n",
       "\n",
       "    revenue_bin  log_revenue  \n",
       "0           low    13.098077  \n",
       "1           low    10.812532  \n",
       "2           low    10.040245  \n",
       "3           low    14.181435  \n",
       "4           low     9.964442  \n",
       "..          ...          ...  \n",
       "134         mid    18.974342  \n",
       "135        high    20.178021  \n",
       "136        high    19.671457  \n",
       "137        high    19.348541  \n",
       "138        high    19.827764  \n",
       "\n",
       "[139 rows x 14 columns]"
      ]
     },
     "execution_count": 18,
     "metadata": {},
     "output_type": "execute_result"
    }
   ],
   "source": [
    "def drop_missing_keyframes(sample_df, frames_dir):\n",
    "    # Keep only rows where the keyframe directory exists\n",
    "    valid_rows = sample_df[\"trailer\"].apply(\n",
    "        lambda tid: os.path.isdir(os.path.join(frames_dir, str(tid)))\n",
    "    )\n",
    "    return sample_df[valid_rows].reset_index(drop=True)\n",
    "\n",
    "sampled_df = drop_missing_keyframes(sampled_df, \"frames\")\n",
    "sampled_df[\"log_revenue\"] = np.log1p(sampled_df[\"revenue\"])\n",
    "sampled_df"
   ]
  },
  {
   "cell_type": "code",
   "execution_count": null,
   "metadata": {},
   "outputs": [],
   "source": []
  },
  {
   "cell_type": "code",
   "execution_count": 29,
   "metadata": {},
   "outputs": [],
   "source": [
    "import re\n",
    "\n",
    "def numerical_sort_key(filename):\n",
    "    return [int(text) if text.isdigit() else text.lower()\n",
    "            for text in re.split(r'(\\d+)', filename)]\n",
    "\n",
    "class MovieKeyframeDataset(Dataset):\n",
    "    def __init__(self, dataframe, frame_dir, image_processor, num_frames=8):\n",
    "        self.dataframe = dataframe\n",
    "        self.frame_dir = frame_dir\n",
    "        self.image_processor = image_processor\n",
    "        self.num_frames = num_frames\n",
    "\n",
    "    def __len__(self):\n",
    "        return len(self.dataframe)\n",
    "\n",
    "    def __getitem__(self, idx):\n",
    "        row = self.dataframe.iloc[idx]\n",
    "        trailer_id = row['trailer']\n",
    "        label = torch.tensor(row['log_revenue'], dtype=torch.float32)\n",
    "\n",
    "        # Get all available frames\n",
    "        frame_folder = os.path.join(self.frame_dir, trailer_id)\n",
    "        frame_files = sorted([\n",
    "            f for f in os.listdir(frame_folder) if f.endswith(\".jpg\")\n",
    "        ], key=numerical_sort_key)\n",
    "\n",
    "        selected_frames = frame_files[3:self.num_frames+3]\n",
    "\n",
    "        frames = []\n",
    "        for fname in selected_frames:\n",
    "            img_path = os.path.join(frame_folder, fname)\n",
    "            img = Image.open(img_path).convert(\"RGB\")\n",
    "            frames.append(np.array(img))  # Convert to numpy for feature_extractor\n",
    "\n",
    "        # Preprocess using HuggingFace extractor (returns dict with 'pixel_values')\n",
    "        pixel_values = self.image_processor(frames, return_tensors=\"pt\")[\"pixel_values\"][0]\n",
    "\n",
    "        return {\n",
    "            \"pixel_values\": pixel_values,  # [T, C, H, W]\n",
    "            \"labels\": label                # scalar\n",
    "        }"
   ]
  },
  {
   "cell_type": "code",
   "execution_count": 26,
   "metadata": {},
   "outputs": [
    {
     "name": "stdout",
     "output_type": "stream",
     "text": [
      "['m5buqYihMg8_frame0.jpg', 'm5buqYihMg8_frame1.jpg', 'm5buqYihMg8_frame2.jpg', 'm5buqYihMg8_frame3.jpg', 'm5buqYihMg8_frame4.jpg', 'm5buqYihMg8_frame5.jpg', 'm5buqYihMg8_frame6.jpg', 'm5buqYihMg8_frame7.jpg', 'm5buqYihMg8_frame8.jpg', 'm5buqYihMg8_frame9.jpg', 'm5buqYihMg8_frame10.jpg', 'm5buqYihMg8_frame11.jpg', 'm5buqYihMg8_frame12.jpg', 'm5buqYihMg8_frame13.jpg', 'm5buqYihMg8_frame14.jpg', 'm5buqYihMg8_frame15.jpg', 'm5buqYihMg8_frame16.jpg', 'm5buqYihMg8_frame17.jpg', 'm5buqYihMg8_frame18.jpg', 'm5buqYihMg8_frame19.jpg', 'm5buqYihMg8_frame20.jpg', 'm5buqYihMg8_frame21.jpg', 'm5buqYihMg8_frame22.jpg', 'm5buqYihMg8_frame23.jpg', 'm5buqYihMg8_frame24.jpg', 'm5buqYihMg8_frame25.jpg', 'm5buqYihMg8_frame26.jpg', 'm5buqYihMg8_frame27.jpg', 'm5buqYihMg8_frame28.jpg', 'm5buqYihMg8_frame29.jpg', 'm5buqYihMg8_frame30.jpg', 'm5buqYihMg8_frame31.jpg', 'm5buqYihMg8_frame32.jpg', 'm5buqYihMg8_frame33.jpg', 'm5buqYihMg8_frame34.jpg', 'm5buqYihMg8_frame35.jpg', 'm5buqYihMg8_frame36.jpg', 'm5buqYihMg8_frame37.jpg', 'm5buqYihMg8_frame38.jpg', 'm5buqYihMg8_frame39.jpg', 'm5buqYihMg8_frame40.jpg', 'm5buqYihMg8_frame41.jpg', 'm5buqYihMg8_frame42.jpg', 'm5buqYihMg8_frame43.jpg', 'm5buqYihMg8_frame44.jpg', 'm5buqYihMg8_frame45.jpg', 'm5buqYihMg8_frame46.jpg', 'm5buqYihMg8_frame47.jpg', 'm5buqYihMg8_frame48.jpg', 'm5buqYihMg8_frame49.jpg', 'm5buqYihMg8_frame50.jpg', 'm5buqYihMg8_frame51.jpg', 'm5buqYihMg8_frame52.jpg', 'm5buqYihMg8_frame53.jpg', 'm5buqYihMg8_frame54.jpg', 'm5buqYihMg8_frame55.jpg', 'm5buqYihMg8_frame56.jpg', 'm5buqYihMg8_frame57.jpg', 'm5buqYihMg8_frame58.jpg', 'm5buqYihMg8_frame59.jpg', 'm5buqYihMg8_frame60.jpg', 'm5buqYihMg8_frame61.jpg', 'm5buqYihMg8_frame62.jpg', 'm5buqYihMg8_frame63.jpg', 'm5buqYihMg8_frame64.jpg', 'm5buqYihMg8_frame65.jpg', 'm5buqYihMg8_frame66.jpg', 'm5buqYihMg8_frame67.jpg', 'm5buqYihMg8_frame68.jpg', 'm5buqYihMg8_frame69.jpg', 'm5buqYihMg8_frame70.jpg', 'm5buqYihMg8_frame71.jpg', 'm5buqYihMg8_frame72.jpg', 'm5buqYihMg8_frame73.jpg', 'm5buqYihMg8_frame74.jpg', 'm5buqYihMg8_frame75.jpg', 'm5buqYihMg8_frame76.jpg', 'm5buqYihMg8_frame77.jpg', 'm5buqYihMg8_frame78.jpg', 'm5buqYihMg8_frame79.jpg', 'm5buqYihMg8_frame80.jpg', 'm5buqYihMg8_frame81.jpg', 'm5buqYihMg8_frame82.jpg', 'm5buqYihMg8_frame83.jpg', 'm5buqYihMg8_frame84.jpg', 'm5buqYihMg8_frame85.jpg', 'm5buqYihMg8_frame86.jpg', 'm5buqYihMg8_frame87.jpg', 'm5buqYihMg8_frame88.jpg', 'm5buqYihMg8_frame89.jpg', 'm5buqYihMg8_frame90.jpg', 'm5buqYihMg8_frame91.jpg', 'm5buqYihMg8_frame92.jpg', 'm5buqYihMg8_frame93.jpg', 'm5buqYihMg8_frame94.jpg', 'm5buqYihMg8_frame95.jpg', 'm5buqYihMg8_frame96.jpg', 'm5buqYihMg8_frame97.jpg', 'm5buqYihMg8_frame98.jpg', 'm5buqYihMg8_frame99.jpg', 'm5buqYihMg8_frame100.jpg', 'm5buqYihMg8_frame101.jpg', 'm5buqYihMg8_frame102.jpg', 'm5buqYihMg8_frame103.jpg', 'm5buqYihMg8_frame104.jpg', 'm5buqYihMg8_frame105.jpg', 'm5buqYihMg8_frame106.jpg', 'm5buqYihMg8_frame107.jpg', 'm5buqYihMg8_frame108.jpg', 'm5buqYihMg8_frame109.jpg', 'm5buqYihMg8_frame110.jpg', 'm5buqYihMg8_frame111.jpg', 'm5buqYihMg8_frame112.jpg', 'm5buqYihMg8_frame113.jpg', 'm5buqYihMg8_frame114.jpg', 'm5buqYihMg8_frame115.jpg', 'm5buqYihMg8_frame116.jpg', 'm5buqYihMg8_frame117.jpg', 'm5buqYihMg8_frame118.jpg', 'm5buqYihMg8_frame119.jpg', 'm5buqYihMg8_frame120.jpg', 'm5buqYihMg8_frame121.jpg', 'm5buqYihMg8_frame122.jpg', 'm5buqYihMg8_frame123.jpg', 'm5buqYihMg8_frame124.jpg', 'm5buqYihMg8_frame125.jpg']\n"
     ]
    },
    {
     "data": {
      "image/png": "[encoded data removed]",
      "text/plain": [
       "<Figure size 1500x300 with 8 Axes>"
      ]
     },
     "metadata": {},
     "output_type": "display_data"
    }
   ],
   "source": [
    "from transformers import AutoImageProcessor\n",
    "\n",
    "# Load image processor\n",
    "processor = AutoImageProcessor.from_pretrained(\"facebook/timesformer-base-finetuned-k400\")\n",
    "\n",
    "# Load dataset class\n",
    "train_dataset = MovieKeyframeDataset(\n",
    "    dataframe=sampled_df,\n",
    "    frame_dir=\"frames\",\n",
    "    image_processor=processor,\n",
    "    num_frames=8\n",
    ")\n",
    "\n",
    "sample = train_dataset[0]  # or: next(iter(train_loader)) if using DataLoader\n",
    "pixel_values = sample[\"pixel_values\"]  # [T, C, H, W]\n",
    "label = sample[\"labels\"]\n",
    "\n",
    "# Prep frames for display\n",
    "frames = pixel_values.permute(0, 2, 3, 1)  # [T, H, W, C]\n",
    "\n",
    "# Unnormalize (ImageNet-style)\n",
    "mean = torch.tensor([0.485, 0.456, 0.406])\n",
    "std = torch.tensor([0.229, 0.224, 0.225])\n",
    "frames = frames * std + mean\n",
    "frames = torch.clamp(frames, 0, 1)\n",
    "\n",
    "# Plot\n",
    "n = frames.shape[0]\n",
    "plt.figure(figsize=(15, 3))\n",
    "for i in range(n):\n",
    "    plt.subplot(1, n, i + 1)\n",
    "    plt.imshow(frames[i].cpu().numpy())\n",
    "    plt.axis('off')\n",
    "plt.suptitle(f\"Log Revenue Label: {label:.2f}\")\n",
    "plt.show()"
   ]
  },
  {
   "cell_type": "markdown",
   "metadata": {},
   "source": [
    "TimeSformer Model"
   ]
  },
  {
   "cell_type": "code",
   "execution_count": 23,
   "metadata": {},
   "outputs": [],
   "source": [
    "from transformers import TimesformerForVideoClassification\n",
    "\n",
    "class TimeSformer(nn.Module):\n",
    "    def __init__(self, model_name=\"facebook/timesformer-base-finetuned-k400\"):\n",
    "        super().__init__()\n",
    "        self.backbone = TimesformerForVideoClassification.from_pretrained(model_name)\n",
    "\n",
    "        hidden_size = self.backbone.config.hidden_size  # 768\n",
    "\n",
    "        # Replace classification head with custom regression head\n",
    "        self.backbone.classifier = nn.Sequential(\n",
    "            nn.Linear(hidden_size, hidden_size // 2),\n",
    "            nn.ReLU(),\n",
    "            nn.Linear(hidden_size // 2, 1)\n",
    "        )\n",
    "\n",
    "    def forward(self, pixel_values):  # input: [B, T, C, H, W]\n",
    "        outputs = self.backbone(pixel_values)\n",
    "        return outputs.logits.view(-1)  # output: [B]"
   ]
  },
  {
   "cell_type": "markdown",
   "metadata": {},
   "source": [
    "Training Loop"
   ]
  },
  {
   "cell_type": "code",
   "execution_count": 24,
   "metadata": {},
   "outputs": [],
   "source": [
    "def train_model(model, train_loader, val_loader, optimizer, criterion, device, epochs=10):\n",
    "    model.to(device)\n",
    "\n",
    "    for epoch in range(epochs):\n",
    "        model.train()\n",
    "        train_loss = 0.0\n",
    "        y_true_train, y_pred_train = [], []\n",
    "\n",
    "        for batch in tqdm(train_loader, desc=f\"Epoch {epoch+1}/{epochs} [Training]\"):\n",
    "            pixel_values = batch[\"pixel_values\"].to(device)  # [B, T, C, H, W]\n",
    "            labels = batch[\"labels\"].to(device)              # [B]\n",
    "\n",
    "            optimizer.zero_grad()\n",
    "            outputs = model(pixel_values)                   # [B]\n",
    "            loss = criterion(outputs, labels)\n",
    "\n",
    "            loss.backward()\n",
    "            optimizer.step()\n",
    "\n",
    "            train_loss += loss.item() * pixel_values.size(0)\n",
    "            y_true_train.extend(labels.detach().cpu().numpy())\n",
    "            y_pred_train.extend(outputs.detach().cpu().numpy())\n",
    "\n",
    "        train_loss /= len(train_loader.dataset)\n",
    "        train_r2 = r2_score(np.expm1(y_true_train), np.expm1(y_pred_train))\n",
    "\n",
    "        # --- Validation ---\n",
    "        model.eval()\n",
    "        val_loss = 0.0\n",
    "        y_true_val, y_pred_val = [], []\n",
    "\n",
    "        with torch.no_grad():\n",
    "            for batch in tqdm(val_loader, desc=f\"Epoch {epoch+1}/{epochs} [Validation]\"):\n",
    "                pixel_values = batch[\"pixel_values\"].to(device)\n",
    "                labels = batch[\"labels\"].to(device)\n",
    "\n",
    "                outputs = model(pixel_values)\n",
    "                loss = criterion(outputs, labels)\n",
    "\n",
    "                val_loss += loss.item() * pixel_values.size(0)\n",
    "                y_true_val.extend(labels.cpu().numpy())\n",
    "                y_pred_val.extend(outputs.cpu().numpy())\n",
    "\n",
    "        val_loss /= len(val_loader.dataset)\n",
    "        val_r2 = r2_score(np.expm1(y_true_val), np.expm1(y_pred_val))\n",
    "        val_rmse = np.sqrt(mean_squared_error(np.expm1(y_true_val), np.expm1(y_pred_val)))\n",
    "        val_mae = mean_absolute_error(np.expm1(y_true_val), np.expm1(y_pred_val))\n",
    "\n",
    "        # --- Logging ---\n",
    "        print(f\"\\nEpoch {epoch+1}/{epochs}\")\n",
    "        print(f\"Train Loss: {train_loss:.4f} | R²: {train_r2:.4f}\")\n",
    "        print(f\"Val   Loss: {val_loss:.4f} | R²: {val_r2:.4f} | RMSE: {val_rmse:.4f} | MAE: {val_mae:.4f}\" )"
   ]
  },
  {
   "cell_type": "code",
   "execution_count": 30,
   "metadata": {},
   "outputs": [
    {
     "name": "stderr",
     "output_type": "stream",
     "text": [
      "Epoch 1/10 [Training]: 100%|██████████| 111/111 [10:55<00:00,  5.91s/it]\n",
      "Epoch 1/10 [Validation]: 100%|██████████| 28/28 [01:01<00:00,  2.20s/it]\n"
     ]
    },
    {
     "name": "stdout",
     "output_type": "stream",
     "text": [
      "\n",
      "Epoch 1/10\n",
      "Train Loss: 36.3474 | R²: -0.3537\n",
      "Val   Loss: 11.4877 | R²: -0.3958 | RMSE: 311174327.6087 | MAE: 166992000.0000\n"
     ]
    },
    {
     "name": "stderr",
     "output_type": "stream",
     "text": [
      "Epoch 2/10 [Training]: 100%|██████████| 111/111 [10:44<00:00,  5.80s/it]\n",
      "Epoch 2/10 [Validation]: 100%|██████████| 28/28 [01:01<00:00,  2.19s/it]\n"
     ]
    },
    {
     "name": "stdout",
     "output_type": "stream",
     "text": [
      "\n",
      "Epoch 2/10\n",
      "Train Loss: 8.7083 | R²: -0.3070\n",
      "Val   Loss: 8.1472 | R²: -0.3637 | RMSE: 307581177.7919 | MAE: 162728048.0000\n"
     ]
    },
    {
     "name": "stderr",
     "output_type": "stream",
     "text": [
      "Epoch 3/10 [Training]: 100%|██████████| 111/111 [10:37<00:00,  5.74s/it]\n",
      "Epoch 3/10 [Validation]: 100%|██████████| 28/28 [01:01<00:00,  2.18s/it]\n"
     ]
    },
    {
     "name": "stdout",
     "output_type": "stream",
     "text": [
      "\n",
      "Epoch 3/10\n",
      "Train Loss: 8.1926 | R²: -0.2647\n",
      "Val   Loss: 9.3181 | R²: -0.3814 | RMSE: 309567771.4432 | MAE: 164936416.0000\n"
     ]
    },
    {
     "name": "stderr",
     "output_type": "stream",
     "text": [
      "Epoch 4/10 [Training]: 100%|██████████| 111/111 [10:38<00:00,  5.75s/it]\n",
      "Epoch 4/10 [Validation]: 100%|██████████| 28/28 [01:01<00:00,  2.18s/it]\n"
     ]
    },
    {
     "name": "stdout",
     "output_type": "stream",
     "text": [
      "\n",
      "Epoch 4/10\n",
      "Train Loss: 8.5915 | R²: -0.2311\n",
      "Val   Loss: 6.7162 | R²: -0.2791 | RMSE: 297891190.0615 | MAE: 153630192.0000\n"
     ]
    },
    {
     "name": "stderr",
     "output_type": "stream",
     "text": [
      "Epoch 5/10 [Training]: 100%|██████████| 111/111 [11:04<00:00,  5.99s/it]\n",
      "Epoch 5/10 [Validation]: 100%|██████████| 28/28 [01:02<00:00,  2.22s/it]\n"
     ]
    },
    {
     "name": "stdout",
     "output_type": "stream",
     "text": [
      "\n",
      "Epoch 5/10\n",
      "Train Loss: 8.7976 | R²: -0.2785\n",
      "Val   Loss: 11.1482 | R²: -0.3925 | RMSE: 310809632.6691 | MAE: 166724400.0000\n"
     ]
    },
    {
     "name": "stderr",
     "output_type": "stream",
     "text": [
      "Epoch 6/10 [Training]: 100%|██████████| 111/111 [10:58<00:00,  5.93s/it]\n",
      "Epoch 6/10 [Validation]: 100%|██████████| 28/28 [01:00<00:00,  2.15s/it]\n"
     ]
    },
    {
     "name": "stdout",
     "output_type": "stream",
     "text": [
      "\n",
      "Epoch 6/10\n",
      "Train Loss: 8.0214 | R²: -0.2572\n",
      "Val   Loss: 11.2745 | R²: -0.3947 | RMSE: 311060919.8373 | MAE: 166876336.0000\n"
     ]
    },
    {
     "name": "stderr",
     "output_type": "stream",
     "text": [
      "Epoch 7/10 [Training]: 100%|██████████| 111/111 [10:47<00:00,  5.83s/it]\n",
      "Epoch 7/10 [Validation]: 100%|██████████| 28/28 [01:01<00:00,  2.21s/it]\n"
     ]
    },
    {
     "name": "stdout",
     "output_type": "stream",
     "text": [
      "\n",
      "Epoch 7/10\n",
      "Train Loss: 8.0563 | R²: -0.2909\n",
      "Val   Loss: 7.3117 | R²: -0.3342 | RMSE: 304229377.9973 | MAE: 159316256.0000\n"
     ]
    },
    {
     "name": "stderr",
     "output_type": "stream",
     "text": [
      "Epoch 8/10 [Training]: 100%|██████████| 111/111 [10:53<00:00,  5.88s/it]\n",
      "Epoch 8/10 [Validation]: 100%|██████████| 28/28 [01:00<00:00,  2.17s/it]\n"
     ]
    },
    {
     "name": "stdout",
     "output_type": "stream",
     "text": [
      "\n",
      "Epoch 8/10\n",
      "Train Loss: 8.4770 | R²: -0.2999\n",
      "Val   Loss: 6.9187 | R²: -0.3065 | RMSE: 301061884.3620 | MAE: 156525600.0000\n"
     ]
    },
    {
     "name": "stderr",
     "output_type": "stream",
     "text": [
      "Epoch 9/10 [Training]: 100%|██████████| 111/111 [12:14<00:00,  6.62s/it]\n",
      "Epoch 9/10 [Validation]: 100%|██████████| 28/28 [01:14<00:00,  2.65s/it]\n"
     ]
    },
    {
     "name": "stdout",
     "output_type": "stream",
     "text": [
      "\n",
      "Epoch 9/10\n",
      "Train Loss: 7.9351 | R²: -0.2715\n",
      "Val   Loss: 7.8736 | R²: -0.3522 | RMSE: 306277221.5932 | MAE: 162062736.0000\n"
     ]
    },
    {
     "name": "stderr",
     "output_type": "stream",
     "text": [
      "Epoch 10/10 [Training]: 100%|██████████| 111/111 [13:54<00:00,  7.51s/it]\n",
      "Epoch 10/10 [Validation]: 100%|██████████| 28/28 [01:18<00:00,  2.80s/it]"
     ]
    },
    {
     "name": "stdout",
     "output_type": "stream",
     "text": [
      "\n",
      "Epoch 10/10\n",
      "Train Loss: 8.1055 | R²: -0.3068\n",
      "Val   Loss: 7.6335 | R²: -0.1035 | RMSE: 276688661.1883 | MAE: 143093440.0000\n"
     ]
    },
    {
     "name": "stderr",
     "output_type": "stream",
     "text": [
      "\n"
     ]
    }
   ],
   "source": [
    "model = TimeSformer() \n",
    "device = torch.device(\"cuda\" if torch.cuda.is_available() else \"cpu\")\n",
    "model.to(device)\n",
    "\n",
    "train_df, val_df = train_test_split(\n",
    "    sampled_df,\n",
    "    test_size=0.2,\n",
    "    random_state=42,  # for reproducibility\n",
    "    shuffle=True\n",
    ")\n",
    "\n",
    "train_dataset = MovieKeyframeDataset(train_df, \"frames\", processor, num_frames=8)\n",
    "val_dataset = MovieKeyframeDataset(val_df, \"frames\", processor, num_frames=8)\n",
    "\n",
    "train_loader = DataLoader(train_dataset, batch_size=1, shuffle=True)\n",
    "val_loader = DataLoader(val_dataset, batch_size=1, shuffle=False)\n",
    "\n",
    "optimizer = torch.optim.AdamW(model.parameters(), lr=1e-4, weight_decay=1e-2)\n",
    "criterion = torch.nn.MSELoss()\n",
    "\n",
    "train_model(model, train_loader, val_loader, optimizer, criterion, device, epochs=10)"
   ]
  },
  {
   "cell_type": "code",
   "execution_count": 31,
   "metadata": {},
   "outputs": [],
   "source": [
    "torch.save(model.state_dict(), 'best_trailer_model.pt')"
   ]
  }
 ],
 "metadata": {
  "kernelspec": {
   "display_name": "Python 3",
   "language": "python",
   "name": "python3"
  },
  "language_info": {
   "codemirror_mode": {
    "name": "ipython",
    "version": 3
   },
   "file_extension": ".py",
   "mimetype": "text/x-python",
   "name": "python",
   "nbconvert_exporter": "python",
   "pygments_lexer": "ipython3",
   "version": "3.12.6"
  }
 },
 "nbformat": 4,
 "nbformat_minor": 2
}
